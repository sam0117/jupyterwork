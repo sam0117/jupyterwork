{
 "cells": [
  {
   "cell_type": "code",
   "execution_count": 367,
   "metadata": {},
   "outputs": [],
   "source": [
    "import pandas as pd\n",
    "\n",
    "\n",
    "from pylab import rcParams\n",
    "import seaborn as sb"
   ]
  },
  {
   "cell_type": "code",
   "execution_count": 364,
   "metadata": {},
   "outputs": [],
   "source": [
    "import numpy as np\n",
    "\n",
    "\n",
    "\n",
    "\n",
    "import scipy\n",
    "from scipy.stats.stats import pearsonr"
   ]
  },
  {
   "cell_type": "code",
   "execution_count": 357,
   "metadata": {},
   "outputs": [
    {
     "name": "stdout",
     "output_type": "stream",
     "text": [
      "37991\n"
     ]
    }
   ],
   "source": [
    "print(len(faqhi))"
   ]
  },
  {
   "cell_type": "code",
   "execution_count": 2,
   "metadata": {},
   "outputs": [],
   "source": [
    "import pandas as pd\n",
    "\n"
   ]
  },
  {
   "cell_type": "code",
   "execution_count": 338,
   "metadata": {},
   "outputs": [],
   "source": [
    "data=pd.read_csv('o3Eastern.csv',header=None)\n",
    "pm=pd.read_csv('PM2_5Eastern.csv',header=None)"
   ]
  },
  {
   "cell_type": "code",
   "execution_count": 359,
   "metadata": {},
   "outputs": [
    {
     "data": {
      "text/plain": [
       "37991"
      ]
     },
     "execution_count": 359,
     "metadata": {},
     "output_type": "execute_result"
    }
   ],
   "source": [
    "pm.columns=['date','hour','station','PM2.5']\n",
    "pm2_5=pm['PM2.5']\n",
    "\n",
    "fpm2_5=pm2_5[26257:len(pm2_5)]\n",
    "len(fpm2_5)"
   ]
  },
  {
   "cell_type": "code",
   "execution_count": 7,
   "metadata": {},
   "outputs": [],
   "source": [
    "data.columns=['date','hour','station','o3']"
   ]
  },
  {
   "cell_type": "code",
   "execution_count": 8,
   "metadata": {},
   "outputs": [
    {
     "name": "stdout",
     "output_type": "stream",
     "text": [
      "             date  hour  station  o3\n",
      "0      2008-01-01     1  EASTERN  47\n",
      "1      2008-01-01     2  EASTERN  47\n",
      "2      2008-01-01     3  EASTERN  53\n",
      "3      2008-01-01     4  EASTERN  56\n",
      "4      2008-01-01     5  EASTERN  56\n",
      "5      2008-01-01     6  EASTERN  54\n",
      "6      2008-01-01     7  EASTERN  43\n",
      "7      2008-01-01     8  EASTERN  31\n",
      "8      2008-01-01     9  EASTERN  40\n",
      "9      2008-01-01    10  EASTERN  46\n",
      "10     2008-01-01    11  EASTERN  51\n",
      "11     2008-01-01    12  EASTERN  59\n",
      "12     2008-01-01    13  EASTERN  71\n",
      "13     2008-01-01    14  EASTERN  74\n",
      "14     2008-01-01    15  EASTERN  71\n",
      "15     2008-01-01    16  EASTERN  68\n",
      "16     2008-01-01    17  EASTERN  60\n",
      "17     2008-01-01    18  EASTERN  51\n",
      "18     2008-01-01    19  EASTERN  41\n",
      "19     2008-01-01    20  EASTERN  44\n",
      "20     2008-01-01    21  EASTERN  48\n",
      "21     2008-01-01    22  EASTERN  54\n",
      "22     2008-01-01    23  EASTERN  49\n",
      "23     2008-01-01    24  EASTERN  45\n",
      "24     2008-01-02     1  EASTERN  47\n",
      "25     2008-01-02     2  EASTERN  53\n",
      "26     2008-01-02     3  EASTERN  58\n",
      "27     2008-01-02     4  EASTERN  58\n",
      "28     2008-01-02     5  EASTERN  60\n",
      "29     2008-01-02     6  EASTERN  54\n",
      "...           ...   ...      ...  ..\n",
      "90522  2018-04-29    19  EASTERN  80\n",
      "90523  2018-04-29    20  EASTERN  84\n",
      "90524  2018-04-29    21  EASTERN  75\n",
      "90525  2018-04-29    22  EASTERN  68\n",
      "90526  2018-04-29    23  EASTERN  80\n",
      "90527  2018-04-29    24  EASTERN  85\n",
      "90528  2018-04-30     1  EASTERN  84\n",
      "90529  2018-04-30     2  EASTERN  80\n",
      "90530  2018-04-30     3  EASTERN  77\n",
      "90531  2018-04-30     4  EASTERN  78\n",
      "90532  2018-04-30     5  EASTERN  65\n",
      "90533  2018-04-30     6  EASTERN  60\n",
      "90534  2018-04-30     7  EASTERN  43\n",
      "90535  2018-04-30     8  EASTERN  31\n",
      "90536  2018-04-30     9  EASTERN  34\n",
      "90537  2018-04-30    10  EASTERN  42\n",
      "90538  2018-04-30    11  EASTERN  48\n",
      "90539  2018-04-30    12  EASTERN  56\n",
      "90540  2018-04-30    13  EASTERN  64\n",
      "90541  2018-04-30    14  EASTERN  63\n",
      "90542  2018-04-30    15  EASTERN  63\n",
      "90543  2018-04-30    16  EASTERN  56\n",
      "90544  2018-04-30    17  EASTERN  58\n",
      "90545  2018-04-30    18  EASTERN  65\n",
      "90546  2018-04-30    19  EASTERN  67\n",
      "90547  2018-04-30    20  EASTERN  61\n",
      "90548  2018-04-30    21  EASTERN  53\n",
      "90549  2018-04-30    22  EASTERN  37\n",
      "90550  2018-04-30    23  EASTERN  31\n",
      "90551  2018-04-30    24  EASTERN  28\n",
      "\n",
      "[90552 rows x 4 columns]\n"
     ]
    }
   ],
   "source": [
    "print(data)"
   ]
  },
  {
   "cell_type": "code",
   "execution_count": 9,
   "metadata": {},
   "outputs": [],
   "source": [
    "o3=data['o3']"
   ]
  },
  {
   "cell_type": "code",
   "execution_count": 10,
   "metadata": {},
   "outputs": [
    {
     "name": "stdout",
     "output_type": "stream",
     "text": [
      "0        47\n",
      "1        47\n",
      "2        53\n",
      "3        56\n",
      "4        56\n",
      "5        54\n",
      "6        43\n",
      "7        31\n",
      "8        40\n",
      "9        46\n",
      "10       51\n",
      "11       59\n",
      "12       71\n",
      "13       74\n",
      "14       71\n",
      "15       68\n",
      "16       60\n",
      "17       51\n",
      "18       41\n",
      "19       44\n",
      "20       48\n",
      "21       54\n",
      "22       49\n",
      "23       45\n",
      "24       47\n",
      "25       53\n",
      "26       58\n",
      "27       58\n",
      "28       60\n",
      "29       54\n",
      "         ..\n",
      "90522    80\n",
      "90523    84\n",
      "90524    75\n",
      "90525    68\n",
      "90526    80\n",
      "90527    85\n",
      "90528    84\n",
      "90529    80\n",
      "90530    77\n",
      "90531    78\n",
      "90532    65\n",
      "90533    60\n",
      "90534    43\n",
      "90535    31\n",
      "90536    34\n",
      "90537    42\n",
      "90538    48\n",
      "90539    56\n",
      "90540    64\n",
      "90541    63\n",
      "90542    63\n",
      "90543    56\n",
      "90544    58\n",
      "90545    65\n",
      "90546    67\n",
      "90547    61\n",
      "90548    53\n",
      "90549    37\n",
      "90550    31\n",
      "90551    28\n",
      "Name: o3, Length: 90552, dtype: int64\n"
     ]
    }
   ],
   "source": [
    "print(o3)"
   ]
  },
  {
   "cell_type": "code",
   "execution_count": 12,
   "metadata": {},
   "outputs": [],
   "source": [
    "data=pd.read_csv('Eastern.csv',header=None)"
   ]
  },
  {
   "cell_type": "code",
   "execution_count": 13,
   "metadata": {},
   "outputs": [
    {
     "name": "stdout",
     "output_type": "stream",
     "text": [
      "                0   1        2   3\n",
      "0      2013-12-30   2  Eastern   5\n",
      "1      2013-12-30   3  Eastern   5\n",
      "2      2013-12-30   4  Eastern   5\n",
      "3      2013-12-30   5  Eastern   4\n",
      "4      2013-12-30   6  Eastern   4\n",
      "5      2013-12-30   7  Eastern   4\n",
      "6      2013-12-30   8  Eastern   5\n",
      "7      2013-12-30   9  Eastern   5\n",
      "8      2013-12-30  10  Eastern   5\n",
      "9      2013-12-30  11  Eastern   5\n",
      "10     2013-12-30  12  Eastern   5\n",
      "11     2013-12-30  13  Eastern   5\n",
      "12     2013-12-30  14  Eastern   5\n",
      "13     2013-12-30  15  Eastern   5\n",
      "14     2013-12-30  16  Eastern   6\n",
      "15     2013-12-30  17  Eastern   6\n",
      "16     2013-12-30  18  Eastern   6\n",
      "17     2013-12-30  19  Eastern   7\n",
      "18     2013-12-30  20  Eastern   7\n",
      "19     2013-12-30  21  Eastern   8\n",
      "20     2013-12-30  22  Eastern   8\n",
      "21     2013-12-30  23  Eastern   8\n",
      "22     2013-12-30  24  Eastern   7\n",
      "23     2013-12-31   1  Eastern   6\n",
      "24     2013-12-31   2  Eastern   6\n",
      "25     2013-12-31   3  Eastern   6\n",
      "26     2013-12-31   4  Eastern   6\n",
      "27     2013-12-31   5  Eastern   5\n",
      "28     2013-12-31   6  Eastern   5\n",
      "29     2013-12-31   7  Eastern   4\n",
      "...           ...  ..      ...  ..\n",
      "40565  2018-08-16   6  Eastern   3\n",
      "40566  2018-08-16   7  Eastern   3\n",
      "40567  2018-08-16   8  Eastern   3\n",
      "40568  2018-08-16   9  Eastern   3\n",
      "40569  2018-08-16  10  Eastern   3\n",
      "40570  2018-08-16  11  Eastern   3\n",
      "40571  2018-08-16  12  Eastern   3\n",
      "40572  2018-08-16  13  Eastern   3\n",
      "40573  2018-08-16  14  Eastern   3\n",
      "40574  2018-08-16  15  Eastern   3\n",
      "40575  2018-08-16  16  Eastern   3\n",
      "40576  2018-08-16  17  Eastern   3\n",
      "40577  2018-08-16  18  Eastern   3\n",
      "40578  2018-08-16  19  Eastern   2\n",
      "40579  2018-08-16  20  Eastern   2\n",
      "40580  2018-08-16  21  Eastern   3\n",
      "40581  2018-08-16  22  Eastern   2\n",
      "40582  2018-08-16  23  Eastern   2\n",
      "40583  2018-08-16  24  Eastern   2\n",
      "40584  2018-08-17   1  Eastern   2\n",
      "40585  2018-08-17   2  Eastern   2\n",
      "40586  2018-08-17   3  Eastern   2\n",
      "40587  2018-08-17   4  Eastern   2\n",
      "40588  2018-08-17   5  Eastern   2\n",
      "40589  2018-08-17   6  Eastern   2\n",
      "40590  2018-08-17   7  Eastern   2\n",
      "40591  2018-08-17   8  Eastern   2\n",
      "40592  2018-08-17   9  Eastern   2\n",
      "40593  2018-08-17  10  Eastern   2\n",
      "40594  2018-08-17  11  Eastern  2*\n",
      "\n",
      "[40595 rows x 4 columns]\n"
     ]
    }
   ],
   "source": [
    "print(data)"
   ]
  },
  {
   "cell_type": "code",
   "execution_count": 15,
   "metadata": {},
   "outputs": [],
   "source": [
    "data.columns=['date','hour','station','aqhi']"
   ]
  },
  {
   "cell_type": "code",
   "execution_count": 16,
   "metadata": {},
   "outputs": [],
   "source": [
    "aqhi=data['aqhi']"
   ]
  },
  {
   "cell_type": "code",
   "execution_count": 17,
   "metadata": {},
   "outputs": [
    {
     "name": "stdout",
     "output_type": "stream",
     "text": [
      "0         5\n",
      "1         5\n",
      "2         5\n",
      "3         4\n",
      "4         4\n",
      "5         4\n",
      "6         5\n",
      "7         5\n",
      "8         5\n",
      "9         5\n",
      "10        5\n",
      "11        5\n",
      "12        5\n",
      "13        5\n",
      "14        6\n",
      "15        6\n",
      "16        6\n",
      "17        7\n",
      "18        7\n",
      "19        8\n",
      "20        8\n",
      "21        8\n",
      "22        7\n",
      "23        6\n",
      "24        6\n",
      "25        6\n",
      "26        6\n",
      "27        5\n",
      "28        5\n",
      "29        4\n",
      "         ..\n",
      "40565     3\n",
      "40566     3\n",
      "40567     3\n",
      "40568     3\n",
      "40569     3\n",
      "40570     3\n",
      "40571     3\n",
      "40572     3\n",
      "40573     3\n",
      "40574     3\n",
      "40575     3\n",
      "40576     3\n",
      "40577     3\n",
      "40578     2\n",
      "40579     2\n",
      "40580     3\n",
      "40581     2\n",
      "40582     2\n",
      "40583     2\n",
      "40584     2\n",
      "40585     2\n",
      "40586     2\n",
      "40587     2\n",
      "40588     2\n",
      "40589     2\n",
      "40590     2\n",
      "40591     2\n",
      "40592     2\n",
      "40593     2\n",
      "40594    2*\n",
      "Name: aqhi, Length: 40595, dtype: object\n"
     ]
    }
   ],
   "source": [
    "print(aqhi)"
   ]
  },
  {
   "cell_type": "code",
   "execution_count": 19,
   "metadata": {},
   "outputs": [],
   "source": [
    "import matplotlib.pyplot as plt"
   ]
  },
  {
   "cell_type": "code",
   "execution_count": 21,
   "metadata": {},
   "outputs": [
    {
     "data": {
      "text/plain": [
       "'4'"
      ]
     },
     "execution_count": 21,
     "metadata": {},
     "output_type": "execute_result"
    }
   ],
   "source": [
    "aqhi[4]"
   ]
  },
  {
   "cell_type": "code",
   "execution_count": 22,
   "metadata": {},
   "outputs": [
    {
     "data": {
      "text/plain": [
       "'2*'"
      ]
     },
     "execution_count": 22,
     "metadata": {},
     "output_type": "execute_result"
    }
   ],
   "source": [
    "aqhi[40594]"
   ]
  },
  {
   "cell_type": "code",
   "execution_count": 23,
   "metadata": {
    "scrolled": true
   },
   "outputs": [
    {
     "ename": "NameError",
     "evalue": "name 'force_to_int' is not defined",
     "output_type": "error",
     "traceback": [
      "\u001b[0;31m---------------------------------------------------------------------------\u001b[0m",
      "\u001b[0;31mNameError\u001b[0m                                 Traceback (most recent call last)",
      "\u001b[0;32m<ipython-input-23-c413980b8b70>\u001b[0m in \u001b[0;36m<module>\u001b[0;34m()\u001b[0m\n\u001b[0;32m----> 1\u001b[0;31m \u001b[0mprint\u001b[0m\u001b[0;34m(\u001b[0m\u001b[0mforce_to_int\u001b[0m\u001b[0;34m(\u001b[0m\u001b[0maqhi\u001b[0m\u001b[0;34m[\u001b[0m\u001b[0;36m40594\u001b[0m\u001b[0;34m]\u001b[0m\u001b[0;34m)\u001b[0m\u001b[0;34m)\u001b[0m\u001b[0;34m\u001b[0m\u001b[0m\n\u001b[0m",
      "\u001b[0;31mNameError\u001b[0m: name 'force_to_int' is not defined"
     ]
    }
   ],
   "source": [
    "print(force_to_int(aqhi[40594]))"
   ]
  },
  {
   "cell_type": "code",
   "execution_count": 24,
   "metadata": {},
   "outputs": [
    {
     "data": {
      "text/plain": [
       "pandas.core.series.Series"
      ]
     },
     "execution_count": 24,
     "metadata": {},
     "output_type": "execute_result"
    }
   ],
   "source": [
    "type(o3)"
   ]
  },
  {
   "cell_type": "code",
   "execution_count": 25,
   "metadata": {},
   "outputs": [
    {
     "data": {
      "text/plain": [
       "pandas.core.series.Series"
      ]
     },
     "execution_count": 25,
     "metadata": {},
     "output_type": "execute_result"
    }
   ],
   "source": [
    "type(aqhi)"
   ]
  },
  {
   "cell_type": "code",
   "execution_count": 27,
   "metadata": {},
   "outputs": [
    {
     "data": {
      "text/plain": [
       "0        47\n",
       "1        47\n",
       "2        53\n",
       "3        56\n",
       "4        56\n",
       "5        54\n",
       "6        43\n",
       "7        31\n",
       "8        40\n",
       "9        46\n",
       "10       51\n",
       "11       59\n",
       "12       71\n",
       "13       74\n",
       "14       71\n",
       "15       68\n",
       "16       60\n",
       "17       51\n",
       "18       41\n",
       "19       44\n",
       "20       48\n",
       "21       54\n",
       "22       49\n",
       "23       45\n",
       "24       47\n",
       "25       53\n",
       "26       58\n",
       "27       58\n",
       "28       60\n",
       "29       54\n",
       "         ..\n",
       "90522    80\n",
       "90523    84\n",
       "90524    75\n",
       "90525    68\n",
       "90526    80\n",
       "90527    85\n",
       "90528    84\n",
       "90529    80\n",
       "90530    77\n",
       "90531    78\n",
       "90532    65\n",
       "90533    60\n",
       "90534    43\n",
       "90535    31\n",
       "90536    34\n",
       "90537    42\n",
       "90538    48\n",
       "90539    56\n",
       "90540    64\n",
       "90541    63\n",
       "90542    63\n",
       "90543    56\n",
       "90544    58\n",
       "90545    65\n",
       "90546    67\n",
       "90547    61\n",
       "90548    53\n",
       "90549    37\n",
       "90550    31\n",
       "90551    28\n",
       "Name: o3, Length: 90552, dtype: int64"
      ]
     },
     "execution_count": 27,
     "metadata": {},
     "output_type": "execute_result"
    }
   ],
   "source": [
    "o3.astype(int)"
   ]
  },
  {
   "cell_type": "code",
   "execution_count": 96,
   "metadata": {},
   "outputs": [],
   "source": [
    "x='2*'\n",
    "\n",
    "\n",
    "\n"
   ]
  },
  {
   "cell_type": "code",
   "execution_count": 97,
   "metadata": {},
   "outputs": [
    {
     "data": {
      "text/plain": [
       "str"
      ]
     },
     "execution_count": 97,
     "metadata": {},
     "output_type": "execute_result"
    }
   ],
   "source": [
    "type(x)\n",
    "\n"
   ]
  },
  {
   "cell_type": "code",
   "execution_count": 98,
   "metadata": {},
   "outputs": [
    {
     "data": {
      "text/plain": [
       "2"
      ]
     },
     "execution_count": 98,
     "metadata": {},
     "output_type": "execute_result"
    }
   ],
   "source": [
    "import re\n",
    "int(re.search(r'\\d+', x).group())\n",
    "\n"
   ]
  },
  {
   "cell_type": "code",
   "execution_count": 56,
   "metadata": {},
   "outputs": [
    {
     "data": {
      "text/plain": [
       "numpy.ndarray"
      ]
     },
     "execution_count": 56,
     "metadata": {},
     "output_type": "execute_result"
    }
   ],
   "source": [
    "type(aqhi)\n"
   ]
  },
  {
   "cell_type": "code",
   "execution_count": 334,
   "metadata": {},
   "outputs": [
    {
     "name": "stdout",
     "output_type": "stream",
     "text": [
      "66614 339\n",
      "66615 318\n",
      "83944 314\n",
      "85119 371\n",
      "85120 343\n"
     ]
    }
   ],
   "source": [
    "for index, elem in enumerate(o3):\n",
    "    if(elem>300):\n",
    "        print(index, elem)"
   ]
  },
  {
   "cell_type": "code",
   "execution_count": 210,
   "metadata": {},
   "outputs": [],
   "source": [
    "\n",
    "for index,line in enumerate(aqhi):\n",
    "    if type(line)==str and (line!=\"*\") and (\"*\" in line):\n",
    "        import re\n",
    "        line=int(re.search(r'\\d+', line).group())\n",
    "        print(index,line)\n",
    "    elif type(line)==float:\n",
    "        aqhi[index]=0\n",
    "        \n",
    "    \n",
    "        \n",
    "        \n",
    "        \n",
    "        \n",
    "        \n",
    "\n",
    "        \n",
    "        \n"
   ]
  },
  {
   "cell_type": "code",
   "execution_count": 157,
   "metadata": {},
   "outputs": [
    {
     "ename": "IndentationError",
     "evalue": "expected an indented block (<ipython-input-157-08320e89aa19>, line 3)",
     "output_type": "error",
     "traceback": [
      "\u001b[0;36m  File \u001b[0;32m\"<ipython-input-157-08320e89aa19>\"\u001b[0;36m, line \u001b[0;32m3\u001b[0m\n\u001b[0;31m    import re\u001b[0m\n\u001b[0m         ^\u001b[0m\n\u001b[0;31mIndentationError\u001b[0m\u001b[0;31m:\u001b[0m expected an indented block\n"
     ]
    }
   ],
   "source": [
    " if type(line)==str:\n",
    "        \n",
    "import re\n",
    "int(re.search(r'\\d+', line).group())"
   ]
  },
  {
   "cell_type": "code",
   "execution_count": 382,
   "metadata": {},
   "outputs": [
    {
     "name": "stdout",
     "output_type": "stream",
     "text": [
      "34 i am nothing\n",
      "35 i am nothing\n",
      "1223 i am nothing\n",
      "5222 i am nothing\n",
      "7653 i am nothing\n",
      "7654 i am nothing\n",
      "7655 i am nothing\n",
      "7656 i am nothing\n",
      "7657 i am nothing\n",
      "7673 i am nothing\n",
      "7842 i am nothing\n",
      "7843 i am nothing\n",
      "18755 i am nothing\n",
      "18756 i am nothing\n",
      "18831 i am nothing\n",
      "20207 i am nothing\n",
      "26053 i am nothing\n",
      "28516 i am nothing\n"
     ]
    }
   ],
   "source": [
    "\n",
    "for index,line in enumerate(faqhi):\n",
    "    if type(line)==str and (line!=\"*\") and (\"*\" in line):\n",
    "        import re\n",
    "        line=int(re.search(r'\\d+', line).group())\n",
    "        aqhi[index]=line\n",
    "        \n",
    "    elif type(line)==float:\n",
    "        aqhi[index]=int(0)\n",
    "    elif line==\"10+\":\n",
    "        aqhi[index]=int(11)\n",
    "    elif line==\"*\":\n",
    "        aqhi[index]=int(0)\n",
    "    elif line==0:\n",
    "        print(index,\"i am nothing\")\n",
    "    elif type(line)==str:\n",
    "        import re\n",
    "        line=int(re.search(r'\\d+', line).group())\n",
    "        aqhi[index]=line\n",
    "        print(index,line)"
   ]
  },
  {
   "cell_type": "code",
   "execution_count": 258,
   "metadata": {},
   "outputs": [
    {
     "name": "stdout",
     "output_type": "stream",
     "text": [
      "3\n"
     ]
    }
   ],
   "source": [
    "print(aqhi[40576])\n"
   ]
  },
  {
   "cell_type": "code",
   "execution_count": 317,
   "metadata": {},
   "outputs": [
    {
     "name": "stdout",
     "output_type": "stream",
     "text": [
      "56\n"
     ]
    }
   ],
   "source": [
    "print(o3[52561])"
   ]
  },
  {
   "cell_type": "code",
   "execution_count": 318,
   "metadata": {},
   "outputs": [],
   "source": [
    "fo3=o3[52561:len(o3)]"
   ]
  },
  {
   "cell_type": "code",
   "execution_count": 294,
   "metadata": {},
   "outputs": [],
   "source": [
    "faqhi=aqhi[0:37991]"
   ]
  },
  {
   "cell_type": "code",
   "execution_count": 320,
   "metadata": {},
   "outputs": [
    {
     "data": {
      "text/plain": [
       "40595"
      ]
     },
     "execution_count": 320,
     "metadata": {},
     "output_type": "execute_result"
    }
   ],
   "source": [
    "len(aqhi)"
   ]
  },
  {
   "cell_type": "code",
   "execution_count": 295,
   "metadata": {},
   "outputs": [
    {
     "name": "stdout",
     "output_type": "stream",
     "text": [
      "[5 5 5 ... '4' '4' '3']\n"
     ]
    }
   ],
   "source": [
    "print(faqhi)"
   ]
  },
  {
   "cell_type": "code",
   "execution_count": 319,
   "metadata": {},
   "outputs": [
    {
     "data": {
      "text/plain": [
       "37991"
      ]
     },
     "execution_count": 319,
     "metadata": {},
     "output_type": "execute_result"
    }
   ],
   "source": [
    "len(fo3)\n"
   ]
  },
  {
   "cell_type": "code",
   "execution_count": 324,
   "metadata": {},
   "outputs": [
    {
     "name": "stdout",
     "output_type": "stream",
     "text": [
      "[5 5 5 ... '4' '4' '3']\n"
     ]
    }
   ],
   "source": [
    "print(faqhi)"
   ]
  },
  {
   "cell_type": "code",
   "execution_count": 323,
   "metadata": {},
   "outputs": [
    {
     "name": "stdout",
     "output_type": "stream",
     "text": [
      "52561    56\n",
      "52562    53\n",
      "52563    53\n",
      "52564    58\n",
      "52565    45\n",
      "52566    35\n",
      "52567    27\n",
      "52568    11\n",
      "52569    19\n",
      "52570    32\n",
      "52571    55\n",
      "52572    54\n",
      "52573    55\n",
      "52574    64\n",
      "52575    65\n",
      "52576    46\n",
      "52577    38\n",
      "52578    14\n",
      "52579     8\n",
      "52580    10\n",
      "52581    11\n",
      "52582    15\n",
      "52583    13\n",
      "52584     8\n",
      "52585     7\n",
      "52586    11\n",
      "52587     6\n",
      "52588    18\n",
      "52589    20\n",
      "52590    17\n",
      "         ..\n",
      "90522    80\n",
      "90523    84\n",
      "90524    75\n",
      "90525    68\n",
      "90526    80\n",
      "90527    85\n",
      "90528    84\n",
      "90529    80\n",
      "90530    77\n",
      "90531    78\n",
      "90532    65\n",
      "90533    60\n",
      "90534    43\n",
      "90535    31\n",
      "90536    34\n",
      "90537    42\n",
      "90538    48\n",
      "90539    56\n",
      "90540    64\n",
      "90541    63\n",
      "90542    63\n",
      "90543    56\n",
      "90544    58\n",
      "90545    65\n",
      "90546    67\n",
      "90547    61\n",
      "90548    53\n",
      "90549    37\n",
      "90550    31\n",
      "90551    28\n",
      "Name: o3, Length: 37991, dtype: int64\n"
     ]
    }
   ],
   "source": [
    "print(fo3)"
   ]
  },
  {
   "cell_type": "code",
   "execution_count": 325,
   "metadata": {},
   "outputs": [],
   "source": [
    "import matplotlib.pyplot as plt\n",
    "import numpy as np\n",
    "\n",
    "\n"
   ]
  },
  {
   "cell_type": "code",
   "execution_count": 336,
   "metadata": {},
   "outputs": [
    {
     "data": {
      "text/plain": [
       "Text(0,0.5,'aqhi')"
      ]
     },
     "execution_count": 336,
     "metadata": {},
     "output_type": "execute_result"
    },
    {
     "data": {
      "image/png": "[encoded data removed]",
      "text/plain": [
       "<Figure size 432x288 with 1 Axes>"
      ]
     },
     "metadata": {},
     "output_type": "display_data"
    }
   ],
   "source": [
    "plt.plot(faqhi,fo3)\n",
    "plt.show\n",
    "plt.xlabel('o3')\n",
    "plt.ylabel('aqhi')"
   ]
  },
  {
   "cell_type": "code",
   "execution_count": 360,
   "metadata": {},
   "outputs": [
    {
     "data": {
      "text/plain": [
       "Text(0,0.5,'aqhi')"
      ]
     },
     "execution_count": 360,
     "metadata": {},
     "output_type": "execute_result"
    },
    {
     "data": {
      "image/png": "[encoded data removed]",
      "text/plain": [
       "<Figure size 432x288 with 1 Axes>"
      ]
     },
     "metadata": {},
     "output_type": "display_data"
    }
   ],
   "source": [
    "plt.plot(faqhi,fpm2_5)\n",
    "plt.show\n",
    "plt.xlabel('PM2.5')\n",
    "plt.ylabel('aqhi')"
   ]
  },
  {
   "cell_type": "code",
   "execution_count": 387,
   "metadata": {},
   "outputs": [
    {
     "name": "stdout",
     "output_type": "stream",
     "text": [
      "0.7072629010657905\n"
     ]
    }
   ],
   "source": [
    "pearsonr_coefficient, p_value=pearsonr(faqhi,fo3)\n",
    "print '' (pearsonr_coefficient)"
   ]
  },
  {
   "cell_type": "code",
   "execution_count": 390,
   "metadata": {},
   "outputs": [
    {
     "name": "stdout",
     "output_type": "stream",
     "text": [
      "0.652534783730536\n"
     ]
    }
   ],
   "source": [
    "pearsonr_coefficient, p_value=pearsonr(faqhi,fpm2_5)\n",
    "print (pearsonr_coefficient)"
   ]
  },
  {
   "cell_type": "code",
   "execution_count": 378,
   "metadata": {},
   "outputs": [
    {
     "name": "stdout",
     "output_type": "stream",
     "text": [
      "[5 5 5 ... '4' '4' '3']\n"
     ]
    }
   ],
   "source": [
    "print(faqhi)"
   ]
  },
  {
   "cell_type": "code",
   "execution_count": null,
   "metadata": {},
   "outputs": [],
   "source": []
  }
 ],
 "metadata": {
  "kernelspec": {
   "display_name": "Python 3",
   "language": "python",
   "name": "python3"
  },
  "language_info": {
   "codemirror_mode": {
    "name": "ipython",
    "version": 3
   },
   "file_extension": ".py",
   "mimetype": "text/x-python",
   "name": "python",
   "nbconvert_exporter": "python",
   "pygments_lexer": "ipython3",
   "version": "3.6.5"
  }
 },
 "nbformat": 4,
 "nbformat_minor": 2
}
